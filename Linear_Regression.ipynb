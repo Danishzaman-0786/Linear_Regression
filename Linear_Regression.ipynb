{
  "nbformat": 4,
  "nbformat_minor": 0,
  "metadata": {
    "colab": {
      "provenance": [],
      "authorship_tag": "ABX9TyNB7OeyRqKQEpCmD7joWzCf",
      "include_colab_link": true
    },
    "kernelspec": {
      "name": "python3",
      "display_name": "Python 3"
    },
    "language_info": {
      "name": "python"
    }
  },
  "cells": [
    {
      "cell_type": "markdown",
      "metadata": {
        "id": "view-in-github",
        "colab_type": "text"
      },
      "source": [
        "<a href=\"https://colab.research.google.com/github/Danishzaman-0786/Linear_Regression/blob/main/Linear_Regression.ipynb\" target=\"_parent\"><img src=\"https://colab.research.google.com/assets/colab-badge.svg\" alt=\"Open In Colab\"/></a>"
      ]
    },
    {
      "cell_type": "code",
      "source": [
        "import numpy as np\n",
        "import pandas as pd\n",
        "from sklearn.datasets import load_diabetes"
      ],
      "metadata": {
        "id": "Pthv7feTpIjI"
      },
      "execution_count": null,
      "outputs": []
    },
    {
      "cell_type": "code",
      "source": [
        "A,B=load_diabetes(return_X_y=True)"
      ],
      "metadata": {
        "id": "43rUuqUOqQkJ"
      },
      "execution_count": null,
      "outputs": []
    },
    {
      "cell_type": "code",
      "source": [
        "A"
      ],
      "metadata": {
        "colab": {
          "base_uri": "https://localhost:8080/"
        },
        "id": "GgMszlaeqgnf",
        "outputId": "2d3a49d6-82d2-4efe-8d4d-25330b2fea22"
      },
      "execution_count": null,
      "outputs": [
        {
          "output_type": "execute_result",
          "data": {
            "text/plain": [
              "array([[ 0.03807591,  0.05068012,  0.06169621, ..., -0.00259226,\n",
              "         0.01990749, -0.01764613],\n",
              "       [-0.00188202, -0.04464164, -0.05147406, ..., -0.03949338,\n",
              "        -0.06833155, -0.09220405],\n",
              "       [ 0.08529891,  0.05068012,  0.04445121, ..., -0.00259226,\n",
              "         0.00286131, -0.02593034],\n",
              "       ...,\n",
              "       [ 0.04170844,  0.05068012, -0.01590626, ..., -0.01107952,\n",
              "        -0.04688253,  0.01549073],\n",
              "       [-0.04547248, -0.04464164,  0.03906215, ...,  0.02655962,\n",
              "         0.04452873, -0.02593034],\n",
              "       [-0.04547248, -0.04464164, -0.0730303 , ..., -0.03949338,\n",
              "        -0.00422151,  0.00306441]])"
            ]
          },
          "metadata": {},
          "execution_count": 4
        }
      ]
    },
    {
      "cell_type": "code",
      "source": [
        "A.shape"
      ],
      "metadata": {
        "colab": {
          "base_uri": "https://localhost:8080/"
        },
        "id": "ZAVmrh_9qhF6",
        "outputId": "76fe771b-efd9-43f4-c918-d41ef6ce6b1a"
      },
      "execution_count": null,
      "outputs": [
        {
          "output_type": "execute_result",
          "data": {
            "text/plain": [
              "(442, 10)"
            ]
          },
          "metadata": {},
          "execution_count": 5
        }
      ]
    },
    {
      "cell_type": "code",
      "source": [
        "from sklearn.model_selection import train_test_split\n",
        "A_train,A_test,B_train,B_test=train_test_split(A,B,test_size=0.2,random_state=2)"
      ],
      "metadata": {
        "id": "HAjCL2IgqqEq"
      },
      "execution_count": null,
      "outputs": []
    },
    {
      "cell_type": "code",
      "source": [
        "print(A_train.shape)\n",
        "print(A_test.shape)"
      ],
      "metadata": {
        "colab": {
          "base_uri": "https://localhost:8080/"
        },
        "id": "PDKlDkWKq9A-",
        "outputId": "4effd46a-fcba-470a-f488-afb104159497"
      },
      "execution_count": null,
      "outputs": [
        {
          "output_type": "stream",
          "name": "stdout",
          "text": [
            "(353, 10)\n",
            "(89, 10)\n"
          ]
        }
      ]
    },
    {
      "cell_type": "code",
      "source": [
        "class Azam_lnrReg:\n",
        "  def __init__(self):\n",
        "    self.coeff_=None\n",
        "    self.intercept_=None\n",
        "  def fit(self,A_train,B_train):\n",
        "    A_train=np.insert(A_train,0,1,axis=1)\n",
        "    betas=np.linalg.inv(np.dot(A_train.T,A_train)).dot(A_train.T).dot(B_train)\n",
        "    print(betas)\n",
        "    self.intercept_=betas[0]\n",
        "    self.coeff_=betas[1:]\n",
        "    print(self.intercept_)\n",
        "  def predict(self,A_test):\n",
        "    return np.dot(A_test,self.coeff_)+self.intercept_\n",
        "\n"
      ],
      "metadata": {
        "id": "DydPYJoCrlvM"
      },
      "execution_count": null,
      "outputs": []
    },
    {
      "cell_type": "code",
      "source": [
        "A_test.shape"
      ],
      "metadata": {
        "colab": {
          "base_uri": "https://localhost:8080/"
        },
        "id": "VV6w2b9Itmrb",
        "outputId": "49335df2-6819-4cc6-9133-eecd93e48ecf"
      },
      "execution_count": null,
      "outputs": [
        {
          "output_type": "execute_result",
          "data": {
            "text/plain": [
              "(89, 10)"
            ]
          },
          "metadata": {},
          "execution_count": 40
        }
      ]
    },
    {
      "cell_type": "code",
      "source": [
        "p=Azam_lnrReg()"
      ],
      "metadata": {
        "id": "MdXUer67uxnE"
      },
      "execution_count": null,
      "outputs": []
    },
    {
      "cell_type": "code",
      "source": [
        "p.fit(A_train,B_train)"
      ],
      "metadata": {
        "colab": {
          "base_uri": "https://localhost:8080/"
        },
        "id": "TGDhDZe2vEaA",
        "outputId": "9a37421b-a6c5-4401-bf74-ada46e8faaf2"
      },
      "execution_count": null,
      "outputs": [
        {
          "output_type": "stream",
          "name": "stdout",
          "text": [
            "[ 151.88331005   -9.15865318 -205.45432163  516.69374454  340.61999905\n",
            " -895.5520019   561.22067904  153.89310954  126.73139688  861.12700152\n",
            "   52.42112238]\n",
            "151.88331005254165\n"
          ]
        }
      ]
    },
    {
      "cell_type": "code",
      "source": [
        "print(p.predict(A_test))\n",
        "print(B_test)\n"
      ],
      "metadata": {
        "colab": {
          "base_uri": "https://localhost:8080/"
        },
        "id": "Fq3knUk6vdie",
        "outputId": "89b8c5cf-d0ce-472b-8b4e-72e4566cb235"
      },
      "execution_count": null,
      "outputs": [
        {
          "output_type": "stream",
          "name": "stdout",
          "text": [
            "[154.1213881  204.81835118 124.93755353 106.08950893 258.5348576\n",
            " 256.3310074  118.75087616 119.52440696 101.50816735 190.54048661\n",
            " 141.70656811 172.51883961 174.33861649 134.80942706 294.13994537\n",
            "  94.11798038 211.97059795 156.49579378 134.21000428 119.62664644\n",
            " 148.87842251 165.00873409 151.10021038 176.04063756 133.27769647\n",
            " 221.29555392 197.17324941  96.1577688   50.26012711 230.48580317\n",
            " 242.06073866 114.11129218  67.07532417  94.52943825 201.21415375\n",
            " 167.05136201 159.881268   192.78746659 114.49551325 233.48234551\n",
            " 140.82563045 121.0680409  192.27480772 191.12738845 179.16865788\n",
            " 148.34935601 163.47414622 276.81647884 100.17926432 164.10555298\n",
            " 255.80762189 136.9466204  152.37503699 107.92237882 194.21924678\n",
            "  77.34670792 118.50482479  68.38335763 154.29258529 162.48840259\n",
            " 168.36788326 156.87790322  97.14191797 238.1671215  145.46179904\n",
            " 117.65702433 168.88784311 198.38683887 118.24053714 124.64552812\n",
            " 223.17700368 200.63012386 129.54414666 158.1584765  154.332565\n",
            " 114.47070769  70.44906407  76.3973879  172.41584591  80.56270077\n",
            "  80.2722834   89.46150248 186.21572052 275.46275403 208.26784222\n",
            " 143.79451509 291.28766846 206.32474844  94.22935404]\n",
            "[ 73. 233.  97. 111. 277. 341.  64.  68.  65. 178. 142.  77. 244. 115.\n",
            " 258.  87. 220.  86.  74. 132. 136. 220.  91. 235. 148. 317. 131.  84.\n",
            "  65. 217. 306.  79. 158.  54. 123. 174. 237. 212. 179. 281. 187. 200.\n",
            "  68. 163. 141. 202. 178. 242.  47. 131. 243. 142. 200.  89. 232.  55.\n",
            " 253. 128. 104. 184. 110. 198.  81. 195. 150.  63. 151. 233. 178.  84.\n",
            " 237. 109. 131. 252. 200. 160. 200.  51. 111.  77. 201.  88.  78. 243.\n",
            " 268.  55. 270. 288.  91.]\n"
          ]
        }
      ]
    },
    {
      "cell_type": "code",
      "source": [],
      "metadata": {
        "id": "Dpmt3dWZxF95"
      },
      "execution_count": null,
      "outputs": []
    }
  ]
}